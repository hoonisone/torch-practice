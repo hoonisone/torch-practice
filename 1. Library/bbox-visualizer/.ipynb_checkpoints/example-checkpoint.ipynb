{
 "cells": [
  {
   "cell_type": "code",
   "execution_count": 1,
   "id": "fdaa3be1",
   "metadata": {},
   "outputs": [],
   "source": [
    "# pip install bbox-visualizer"
   ]
  },
  {
   "cell_type": "code",
   "execution_count": 2,
   "id": "63afbfe1",
   "metadata": {},
   "outputs": [],
   "source": [
    "import bbox_visualizer as bbv\n",
    "from PIL import Image\n",
    "  \n",
    "# open method used to open different extension image file\n",
    "im = Image.open(r\"C:\\Users\\System-Pc\\Desktop\\ybear.jpg\") \n",
    "  \n",
    "# This method will show image in any image viewer \n",
    "im.show() "
   ]
  },
  {
   "cell_type": "code",
   "execution_count": null,
   "id": "599d2154",
   "metadata": {},
   "outputs": [],
   "source": [
    "img = bbv.draw_rectangle(img, bbox)\n",
    "img = bbv.add_label(img, label, bbox, top=True)"
   ]
  }
 ],
 "metadata": {
  "kernelspec": {
   "display_name": "torch",
   "language": "python",
   "name": "torch"
  },
  "language_info": {
   "codemirror_mode": {
    "name": "ipython",
    "version": 3
   },
   "file_extension": ".py",
   "mimetype": "text/x-python",
   "name": "python",
   "nbconvert_exporter": "python",
   "pygments_lexer": "ipython3",
   "version": "3.10.8"
  }
 },
 "nbformat": 4,
 "nbformat_minor": 5
}
