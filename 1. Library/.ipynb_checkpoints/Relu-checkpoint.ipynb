{
 "cells": [
  {
   "cell_type": "markdown",
   "id": "2aa825a4",
   "metadata": {},
   "source": [
    "* input size 유지\n",
    "* 각 요소에 대해 양수로 변환"
   ]
  },
  {
   "cell_type": "code",
   "execution_count": 24,
   "id": "646b1979",
   "metadata": {},
   "outputs": [],
   "source": [
    "import torch"
   ]
  },
  {
   "cell_type": "code",
   "execution_count": null,
   "id": "c7e142f1",
   "metadata": {},
   "outputs": [],
   "source": [
    "relu = torch.nn.ReLU()"
   ]
  },
  {
   "cell_type": "code",
   "execution_count": 23,
   "id": "b0f02a70",
   "metadata": {},
   "outputs": [
    {
     "name": "stdout",
     "output_type": "stream",
     "text": [
      "tensor([-1,  0,  1])\n"
     ]
    },
    {
     "data": {
      "text/plain": [
       "tensor([0, 0, 1])"
      ]
     },
     "execution_count": 23,
     "metadata": {},
     "output_type": "execute_result"
    }
   ],
   "source": [
    "x = torch.tensor([-1, 0, 1])\n",
    "print(x)\n",
    "\n",
    "relu(x)"
   ]
  },
  {
   "cell_type": "code",
   "execution_count": 20,
   "id": "c55330ed",
   "metadata": {},
   "outputs": [
    {
     "name": "stdout",
     "output_type": "stream",
     "text": [
      "tensor([[0.2576, 0.9119, 0.4379],\n",
      "        [0.6923, 0.5695, 0.3422],\n",
      "        [0.0588, 0.3765, 0.7416]])\n",
      "tensor([[-0.2299,  0.4244, -0.0497],\n",
      "        [ 0.2047,  0.0819, -0.1454],\n",
      "        [-0.4288, -0.1111,  0.2540]])\n"
     ]
    },
    {
     "data": {
      "text/plain": [
       "tensor([[0.0000, 0.4244, 0.0000],\n",
       "        [0.2047, 0.0819, 0.0000],\n",
       "        [0.0000, 0.0000, 0.2540]])"
      ]
     },
     "execution_count": 20,
     "metadata": {},
     "output_type": "execute_result"
    }
   ],
   "source": [
    "y = torch.rand(3, 3)\n",
    "print(y)\n",
    "\n",
    "y -=torch.mean(y)\n",
    "print(y)\n",
    "\n",
    "relu(y)"
   ]
  }
 ],
 "metadata": {
  "kernelspec": {
   "display_name": "torch",
   "language": "python",
   "name": "torch"
  },
  "language_info": {
   "codemirror_mode": {
    "name": "ipython",
    "version": 3
   },
   "file_extension": ".py",
   "mimetype": "text/x-python",
   "name": "python",
   "nbconvert_exporter": "python",
   "pygments_lexer": "ipython3",
   "version": "3.10.8"
  }
 },
 "nbformat": 4,
 "nbformat_minor": 5
}
