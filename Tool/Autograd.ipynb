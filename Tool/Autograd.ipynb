{
 "cells": [
  {
   "cell_type": "code",
   "execution_count": 1,
   "id": "5d02b7c7",
   "metadata": {},
   "outputs": [],
   "source": [
    "import torch"
   ]
  },
  {
   "cell_type": "markdown",
   "id": "db0ff40c",
   "metadata": {},
   "source": [
    "##### 자동 미분 가능 설정\n",
    "* 텐서 별로 자동 미분 여부 설정 가능\n",
    "* 텐서 객체.requires_grad\n",
    "* 초기 grad = None"
   ]
  },
  {
   "cell_type": "code",
   "execution_count": 28,
   "id": "299f41d2",
   "metadata": {},
   "outputs": [
    {
     "name": "stdout",
     "output_type": "stream",
     "text": [
      "False\n",
      "None\n"
     ]
    }
   ],
   "source": [
    "x = torch.rand(2, 2)\n",
    "print(x.requires_grad)\n",
    "print(x.grad)"
   ]
  },
  {
   "cell_type": "code",
   "execution_count": 27,
   "id": "42055e4e",
   "metadata": {},
   "outputs": [
    {
     "name": "stdout",
     "output_type": "stream",
     "text": [
      "True\n",
      "None\n"
     ]
    }
   ],
   "source": [
    "x = torch.rand(2, 2, requires_grad = True)\n",
    "print(x.requires_grad)\n",
    "print(x.grad)"
   ]
  },
  {
   "cell_type": "code",
   "execution_count": 29,
   "id": "b7a114ba",
   "metadata": {},
   "outputs": [
    {
     "name": "stdout",
     "output_type": "stream",
     "text": [
      "True\n",
      "None\n"
     ]
    }
   ],
   "source": [
    "x = torch.rand(2, 2)\n",
    "x.requires_grad = True\n",
    "print(x.requires_grad)\n",
    "print(x.grad)"
   ]
  },
  {
   "cell_type": "markdown",
   "id": "08f2c282",
   "metadata": {},
   "source": [
    "##### backward()\n",
    "* 최종 연산 결과인 스칼라에 대해서만 수행 가능\n",
    "* 지금까지 연산에 참여한 모든 변수에대해 최종 값에 대한 미분 값을 세팅해준다.\n",
    "* 동일 값에 대한 backward()는 한 번만 수행 가능"
   ]
  },
  {
   "cell_type": "code",
   "execution_count": 34,
   "id": "332bca38",
   "metadata": {},
   "outputs": [
    {
     "name": "stdout",
     "output_type": "stream",
     "text": [
      "None\n",
      "tensor([[2., 2.],\n",
      "        [2., 2.]])\n"
     ]
    }
   ],
   "source": [
    "x = torch.rand(2, 2, requires_grad = True)\n",
    "y = (x * 2).sum()\n",
    "print(x.grad)\n",
    "\n",
    "y.backward()\n",
    "print(x.grad)"
   ]
  },
  {
   "cell_type": "markdown",
   "id": "04378b8c",
   "metadata": {},
   "source": [
    "* 각 텐서의 grad는 backward()수행 시 누적됨\n",
    "* 필요에 따라 각 grad를 0으로 초기화 하고 사용할 필요 있음"
   ]
  },
  {
   "cell_type": "code",
   "execution_count": 35,
   "id": "272c764f",
   "metadata": {},
   "outputs": [
    {
     "name": "stdout",
     "output_type": "stream",
     "text": [
      "None\n",
      "tensor([[2., 2.],\n",
      "        [2., 2.]])\n",
      "tensor([[5., 5.],\n",
      "        [5., 5.]])\n"
     ]
    }
   ],
   "source": [
    "x = torch.rand(2, 2, requires_grad = True)\n",
    "y = (x * 2).sum()\n",
    "z = (x * 3).sum()\n",
    "print(x.grad)\n",
    "\n",
    "y.backward()\n",
    "print(x.grad)\n",
    "\n",
    "z.backward()\n",
    "print(x.grad)"
   ]
  }
 ],
 "metadata": {
  "kernelspec": {
   "display_name": "torch",
   "language": "python",
   "name": "torch"
  },
  "language_info": {
   "codemirror_mode": {
    "name": "ipython",
    "version": 3
   },
   "file_extension": ".py",
   "mimetype": "text/x-python",
   "name": "python",
   "nbconvert_exporter": "python",
   "pygments_lexer": "ipython3",
   "version": "3.10.8"
  }
 },
 "nbformat": 4,
 "nbformat_minor": 5
}
