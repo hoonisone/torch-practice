{
 "cells": [
  {
   "cell_type": "code",
   "execution_count": 22,
   "id": "b7f3f4ff",
   "metadata": {},
   "outputs": [],
   "source": [
    "import torch"
   ]
  },
  {
   "cell_type": "code",
   "execution_count": 23,
   "id": "b74e1168",
   "metadata": {},
   "outputs": [],
   "source": [
    "flatten = torch.nn.Flatten()"
   ]
  },
  {
   "cell_type": "code",
   "execution_count": 24,
   "id": "2d708aaa",
   "metadata": {},
   "outputs": [
    {
     "name": "stdout",
     "output_type": "stream",
     "text": [
      "torch.Size([2, 2, 2])\n",
      "tensor([[[0.4563, 0.5697],\n",
      "         [0.3550, 0.2251]],\n",
      "\n",
      "        [[0.1369, 0.3181],\n",
      "         [0.6756, 0.7958]]])\n"
     ]
    }
   ],
   "source": [
    "x = torch.rand(2, 2, 2)\n",
    "print(x.shape)\n",
    "print(x)"
   ]
  },
  {
   "cell_type": "code",
   "execution_count": 25,
   "id": "35394a54",
   "metadata": {},
   "outputs": [
    {
     "name": "stdout",
     "output_type": "stream",
     "text": [
      "torch.Size([2, 4])\n",
      "tensor([[0.4563, 0.5697, 0.3550, 0.2251],\n",
      "        [0.1369, 0.3181, 0.6756, 0.7958]])\n"
     ]
    }
   ],
   "source": [
    "y = flatten(x)\n",
    "print(y.shape)\n",
    "print(y)"
   ]
  },
  {
   "cell_type": "code",
   "execution_count": 27,
   "id": "a446e47c",
   "metadata": {},
   "outputs": [
    {
     "data": {
      "text/plain": [
       "tensor([[0.4563, 0.5697, 0.3550, 0.2251],\n",
       "        [0.1369, 0.3181, 0.6756, 0.7958]])"
      ]
     },
     "execution_count": 27,
     "metadata": {},
     "output_type": "execute_result"
    }
   ],
   "source": [
    "z = torch.flatten(x, start_dim=1)\n",
    "z"
   ]
  },
  {
   "cell_type": "code",
   "execution_count": null,
   "id": "65ff130b",
   "metadata": {},
   "outputs": [],
   "source": []
  }
 ],
 "metadata": {
  "kernelspec": {
   "display_name": "torch",
   "language": "python",
   "name": "torch"
  },
  "language_info": {
   "codemirror_mode": {
    "name": "ipython",
    "version": 3
   },
   "file_extension": ".py",
   "mimetype": "text/x-python",
   "name": "python",
   "nbconvert_exporter": "python",
   "pygments_lexer": "ipython3",
   "version": "3.10.8"
  }
 },
 "nbformat": 4,
 "nbformat_minor": 5
}
