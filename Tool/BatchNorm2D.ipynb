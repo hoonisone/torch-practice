{
 "cells": [
  {
   "cell_type": "markdown",
   "id": "284d4eb3",
   "metadata": {},
   "source": [
    "* 4D input\n",
    "* input = (batch_size, Channel_num, width, height)\n",
    "* 각 샘플 및 채널에 대해 독립적으로 batch norm을 수행한다.\n",
    "* https://pytorch.org/docs/stable/generated/torch.nn.BatchNorm2d.html"
   ]
  },
  {
   "cell_type": "code",
   "execution_count": 1,
   "id": "c6d954cf",
   "metadata": {},
   "outputs": [],
   "source": [
    "import torch"
   ]
  },
  {
   "cell_type": "code",
   "execution_count": 119,
   "id": "a3f07062",
   "metadata": {},
   "outputs": [
    {
     "name": "stdout",
     "output_type": "stream",
     "text": [
      "tensor([[[[1., 2.],\n",
      "          [3., 4.]]]])\n",
      "tensor([[[[-1.3416, -0.4472],\n",
      "          [ 0.4472,  1.3416]]]])\n"
     ]
    }
   ],
   "source": [
    "bn = torch.nn.BatchNorm2d(100)\n",
    "# Without Learnable Parameters\n",
    "x = torch.randn(1, 1, 2, 2)\n",
    "x = torch.tensor([[[[1, 2], [3, 4]]]], dtype = torch.float32)\n",
    "print(x)\n",
    "bn = torch.nn.BatchNorm2d(1, affine=False)\n",
    "y = bn(x)\n",
    "print(y)"
   ]
  },
  {
   "cell_type": "code",
   "execution_count": 38,
   "id": "57879a4f",
   "metadata": {},
   "outputs": [
    {
     "data": {
      "text/plain": [
       "tensor([[[[-1.1619, -0.3873],\n",
       "          [ 0.3873,  1.1619]]]])"
      ]
     },
     "execution_count": 38,
     "metadata": {},
     "output_type": "execute_result"
    }
   ],
   "source": [
    "(x - torch.mean(x))/(torch.std(x)+1e-05)"
   ]
  }
 ],
 "metadata": {
  "kernelspec": {
   "display_name": "torch",
   "language": "python",
   "name": "torch"
  },
  "language_info": {
   "codemirror_mode": {
    "name": "ipython",
    "version": 3
   },
   "file_extension": ".py",
   "mimetype": "text/x-python",
   "name": "python",
   "nbconvert_exporter": "python",
   "pygments_lexer": "ipython3",
   "version": "3.10.8"
  }
 },
 "nbformat": 4,
 "nbformat_minor": 5
}
