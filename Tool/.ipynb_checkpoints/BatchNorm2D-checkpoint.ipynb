{
 "cells": [
  {
   "cell_type": "markdown",
   "id": "bc273596",
   "metadata": {},
   "source": [
    "* 4D input\n",
    "* input = (batch_size, Channel_num, width, height)\n",
    "* 각 샘플 및 채널에 대해 독립적으로 batch norm을 수행한다."
   ]
  },
  {
   "cell_type": "code",
   "execution_count": 1,
   "id": "11b31c23",
   "metadata": {},
   "outputs": [],
   "source": [
    "import torch"
   ]
  },
  {
   "cell_type": "code",
   "execution_count": 44,
   "id": "c4b4fa4b",
   "metadata": {},
   "outputs": [
    {
     "name": "stdout",
     "output_type": "stream",
     "text": [
      "tensor([[[[1., 2.],\n",
      "          [3., 4.]]]])\n",
      "tensor([[[[-1.3416, -0.4472],\n",
      "          [ 0.4472,  1.3416]]]])\n"
     ]
    }
   ],
   "source": [
    "bn = torch.nn.BatchNorm2d(100)\n",
    "# Without Learnable Parameters\n",
    "x = torch.randn(1, 1, 2, 2)\n",
    "x = torch.tensor([[[[1, 2], [3, 4]]]], dtype = torch.float32)\n",
    "print(x)\n",
    "bn = torch.nn.BatchNorm2d(1, affine=False)\n",
    "y = bn(x)\n",
    "print(y)"
   ]
  },
  {
   "cell_type": "code",
   "execution_count": 34,
   "id": "805c36d7",
   "metadata": {},
   "outputs": [
    {
     "name": "stdout",
     "output_type": "stream",
     "text": [
      "tensor(1.)\n",
      "tensor(0.)\n"
     ]
    }
   ],
   "source": [
    "print(torch.mean(x))\n",
    "print(torch.std(x))\n",
    "x - "
   ]
  },
  {
   "cell_type": "code",
   "execution_count": 38,
   "id": "f70bd586",
   "metadata": {},
   "outputs": [
    {
     "data": {
      "text/plain": [
       "tensor([[[[-1.1619, -0.3873],\n",
       "          [ 0.3873,  1.1619]]]])"
      ]
     },
     "execution_count": 38,
     "metadata": {},
     "output_type": "execute_result"
    }
   ],
   "source": [
    "(x - torch.mean(x))/(torch.std(x)+1e-05)"
   ]
  },
  {
   "cell_type": "code",
   "execution_count": 17,
   "id": "089c6052",
   "metadata": {},
   "outputs": [
    {
     "data": {
      "text/plain": [
       "tensor(-0.5219)"
      ]
     },
     "execution_count": 17,
     "metadata": {},
     "output_type": "execute_result"
    }
   ],
   "source": [
    "torch.mean(x[0])"
   ]
  },
  {
   "cell_type": "code",
   "execution_count": 84,
   "id": "01093b00",
   "metadata": {},
   "outputs": [
    {
     "data": {
      "text/plain": [
       "tensor([[[[-1.3416, -0.4472],\n",
       "          [ 0.4472,  1.3416]]]], grad_fn=<NativeBatchNormBackward0>)"
      ]
     },
     "execution_count": 84,
     "metadata": {},
     "output_type": "execute_result"
    }
   ],
   "source": [
    "x = torch.tensor(\n",
    "    [[[[1, 2], [3, 4]]]], \n",
    "    dtype = torch.float32,\n",
    "    requires_grad = True\n",
    ")\n",
    "y = bn(x)\n",
    "y"
   ]
  },
  {
   "cell_type": "code",
   "execution_count": 85,
   "id": "bf2b2533",
   "metadata": {},
   "outputs": [
    {
     "data": {
      "text/plain": [
       "tensor([[[[-1.1619, -0.3873],\n",
       "          [ 0.3873,  1.1619]]]], grad_fn=<DivBackward0>)"
      ]
     },
     "execution_count": 85,
     "metadata": {},
     "output_type": "execute_result"
    }
   ],
   "source": [
    "z = (x - torch.mean(x))/torch.std(x)\n",
    "z"
   ]
  },
  {
   "cell_type": "code",
   "execution_count": 99,
   "id": "e45f1901",
   "metadata": {},
   "outputs": [
    {
     "data": {
      "text/plain": [
       "tensor([[[[-0.1797, -0.0599],\n",
       "          [ 0.0599,  0.1797]]]], grad_fn=<SubBackward0>)"
      ]
     },
     "execution_count": 99,
     "metadata": {},
     "output_type": "execute_result"
    }
   ],
   "source": [
    "y- z"
   ]
  },
  {
   "cell_type": "code",
   "execution_count": 118,
   "id": "74982dd5",
   "metadata": {},
   "outputs": [
    {
     "data": {
      "text/plain": [
       "tensor([[[[ 0.0003,  0.0001],\n",
       "          [-0.0001, -0.0003]]]], grad_fn=<SubBackward0>)"
      ]
     },
     "execution_count": 118,
     "metadata": {},
     "output_type": "execute_result"
    }
   ],
   "source": [
    "y*(0.8658) - z"
   ]
  },
  {
   "cell_type": "code",
   "execution_count": 78,
   "id": "038d4bf5",
   "metadata": {},
   "outputs": [
    {
     "data": {
      "text/plain": [
       "{'training': True,\n",
       " '_parameters': OrderedDict([('weight', None), ('bias', None)]),\n",
       " '_buffers': OrderedDict([('running_mean', tensor([1.6283])),\n",
       "              ('running_var', tensor([1.4342])),\n",
       "              ('num_batches_tracked', tensor(10))]),\n",
       " '_non_persistent_buffers_set': set(),\n",
       " '_backward_hooks': OrderedDict(),\n",
       " '_is_full_backward_hook': None,\n",
       " '_forward_hooks': OrderedDict(),\n",
       " '_forward_pre_hooks': OrderedDict(),\n",
       " '_state_dict_hooks': OrderedDict(),\n",
       " '_load_state_dict_pre_hooks': OrderedDict(),\n",
       " '_load_state_dict_post_hooks': OrderedDict(),\n",
       " '_modules': OrderedDict(),\n",
       " 'num_features': 1,\n",
       " 'eps': 1e-05,\n",
       " 'momentum': 0.1,\n",
       " 'affine': False,\n",
       " 'track_running_stats': True}"
      ]
     },
     "execution_count": 78,
     "metadata": {},
     "output_type": "execute_result"
    }
   ],
   "source": [
    "bn.__dict__"
   ]
  },
  {
   "cell_type": "code",
   "execution_count": 75,
   "id": "a82990a3",
   "metadata": {},
   "outputs": [
    {
     "data": {
      "text/plain": [
       "tensor([[[[-1.1619, -0.3873],\n",
       "          [ 0.3873,  1.1619]]]], grad_fn=<DivBackward0>)"
      ]
     },
     "execution_count": 75,
     "metadata": {},
     "output_type": "execute_result"
    }
   ],
   "source": []
  },
  {
   "cell_type": "code",
   "execution_count": 73,
   "id": "30fe0e78",
   "metadata": {},
   "outputs": [
    {
     "data": {
      "text/plain": [
       "tensor([[[[0., 0.],\n",
       "          [0., 0.]]]])"
      ]
     },
     "execution_count": 73,
     "metadata": {},
     "output_type": "execute_result"
    }
   ],
   "source": [
    "y = (x - torch.mean(x)) / torch.std(x)\n",
    "y = y.sum()\n",
    "y.backward()\n",
    "x.grad"
   ]
  },
  {
   "cell_type": "code",
   "execution_count": 41,
   "id": "5679e0cd",
   "metadata": {},
   "outputs": [
    {
     "data": {
      "text/plain": [
       "{'training': True,\n",
       " '_parameters': OrderedDict([('weight', None), ('bias', None)]),\n",
       " '_buffers': OrderedDict([('running_mean', tensor([0.])),\n",
       "              ('running_var', tensor([1.])),\n",
       "              ('num_batches_tracked', tensor(0))]),\n",
       " '_non_persistent_buffers_set': set(),\n",
       " '_backward_hooks': OrderedDict(),\n",
       " '_is_full_backward_hook': None,\n",
       " '_forward_hooks': OrderedDict(),\n",
       " '_forward_pre_hooks': OrderedDict(),\n",
       " '_state_dict_hooks': OrderedDict(),\n",
       " '_load_state_dict_pre_hooks': OrderedDict(),\n",
       " '_load_state_dict_post_hooks': OrderedDict(),\n",
       " '_modules': OrderedDict(),\n",
       " 'num_features': 1,\n",
       " 'eps': 1e-05,\n",
       " 'momentum': 0.1,\n",
       " 'affine': False,\n",
       " 'track_running_stats': True}"
      ]
     },
     "execution_count": 41,
     "metadata": {},
     "output_type": "execute_result"
    }
   ],
   "source": [
    "torch.nn.BatchNorm2d(1, affine=False).__dict__"
   ]
  },
  {
   "cell_type": "code",
   "execution_count": 50,
   "id": "55c0ffe9",
   "metadata": {},
   "outputs": [
    {
     "data": {
      "text/plain": [
       "'torch.nn.modules.batchnorm'"
      ]
     },
     "execution_count": 50,
     "metadata": {},
     "output_type": "execute_result"
    }
   ],
   "source": [
    "torch.nn.BatchNorm2d.__dict__[\"__module__\"]"
   ]
  },
  {
   "cell_type": "code",
   "execution_count": 54,
   "id": "de84a9a1",
   "metadata": {},
   "outputs": [
    {
     "data": {
      "text/plain": [
       "<function torch._VariableFunctionsClass.batch_norm>"
      ]
     },
     "execution_count": 54,
     "metadata": {},
     "output_type": "execute_result"
    }
   ],
   "source": [
    "torch.batch_norm"
   ]
  },
  {
   "cell_type": "code",
   "execution_count": 55,
   "id": "f9c4f132",
   "metadata": {},
   "outputs": [
    {
     "ename": "AttributeError",
     "evalue": "module 'torch' has no attribute '_VariableFunctionsClass'",
     "output_type": "error",
     "traceback": [
      "\u001b[1;31m---------------------------------------------------------------------------\u001b[0m",
      "\u001b[1;31mAttributeError\u001b[0m                            Traceback (most recent call last)",
      "Cell \u001b[1;32mIn [55], line 1\u001b[0m\n\u001b[1;32m----> 1\u001b[0m \u001b[43mtorch\u001b[49m\u001b[38;5;241;43m.\u001b[39;49m\u001b[43m_VariableFunctionsClass\u001b[49m\n",
      "\u001b[1;31mAttributeError\u001b[0m: module 'torch' has no attribute '_VariableFunctionsClass'"
     ]
    }
   ],
   "source": [
    "torch._VariableFunctionsClass"
   ]
  },
  {
   "cell_type": "code",
   "execution_count": null,
   "id": "42fdbc42",
   "metadata": {},
   "outputs": [],
   "source": []
  }
 ],
 "metadata": {
  "kernelspec": {
   "display_name": "torch",
   "language": "python",
   "name": "torch"
  },
  "language_info": {
   "codemirror_mode": {
    "name": "ipython",
    "version": 3
   },
   "file_extension": ".py",
   "mimetype": "text/x-python",
   "name": "python",
   "nbconvert_exporter": "python",
   "pygments_lexer": "ipython3",
   "version": "3.10.8"
  }
 },
 "nbformat": 4,
 "nbformat_minor": 5
}
