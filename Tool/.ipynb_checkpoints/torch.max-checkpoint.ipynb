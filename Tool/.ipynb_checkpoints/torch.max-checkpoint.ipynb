{
 "cells": [
  {
   "cell_type": "code",
   "execution_count": 2,
   "id": "2e64eeed",
   "metadata": {},
   "outputs": [],
   "source": [
    "import torch"
   ]
  },
  {
   "cell_type": "code",
   "execution_count": 6,
   "id": "ccc28a8e",
   "metadata": {},
   "outputs": [
    {
     "data": {
      "text/plain": [
       "tensor(0.9709)"
      ]
     },
     "execution_count": 6,
     "metadata": {},
     "output_type": "execute_result"
    }
   ],
   "source": [
    "# torch.max()는 tensor의 최댓값을 구한다.\n",
    "x = torch.rand(2, 2)\n",
    "torch.max(x)"
   ]
  },
  {
   "cell_type": "code",
   "execution_count": 13,
   "id": "c1b4b199",
   "metadata": {},
   "outputs": [
    {
     "data": {
      "text/plain": [
       "torch.return_types.max(\n",
       "values=tensor([[0.8672, 0.9834],\n",
       "        [0.5088, 0.4490]]),\n",
       "indices=tensor([[1, 0],\n",
       "        [1, 1]]))"
      ]
     },
     "execution_count": 13,
     "metadata": {},
     "output_type": "execute_result"
    }
   ],
   "source": [
    "# 인자로 원하는 차원을 주면\n",
    "# 해당 차원에 대해 평균을 내준다.\n",
    "# 또한 각 index로 반환한다.\n",
    "\n",
    "x = torch.rand(2, 2, 2)\n",
    "torch.max(x, 1)"
   ]
  },
  {
   "cell_type": "code",
   "execution_count": null,
   "id": "f920e14c",
   "metadata": {},
   "outputs": [],
   "source": []
  }
 ],
 "metadata": {
  "kernelspec": {
   "display_name": "torch",
   "language": "python",
   "name": "torch"
  },
  "language_info": {
   "codemirror_mode": {
    "name": "ipython",
    "version": 3
   },
   "file_extension": ".py",
   "mimetype": "text/x-python",
   "name": "python",
   "nbconvert_exporter": "python",
   "pygments_lexer": "ipython3",
   "version": "3.10.8"
  }
 },
 "nbformat": 4,
 "nbformat_minor": 5
}
