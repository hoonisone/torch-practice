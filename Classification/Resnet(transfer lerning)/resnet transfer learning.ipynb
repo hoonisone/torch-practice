{
 "cells": [
  {
   "cell_type": "code",
   "execution_count": 224,
   "id": "6ae9a031",
   "metadata": {},
   "outputs": [],
   "source": [
    "import os\n",
    "import pathlib\n",
    "\n",
    "import torch\n",
    "import torchsummary # 모델 구조 보기좋게 출력\n",
    "import torchvision\n",
    "from torchvision import utils\n",
    "from torchvision import models\n",
    "from torchvision import transforms\n",
    "from torchvision.utils import *\n",
    "from torch.utils.data import DataLoader\n",
    "\n",
    "import torch\n",
    "import torch.nn as nn\n",
    "from torch import optim\n",
    "from torch.nn import *\n",
    "\n",
    "import numpy as np\n",
    "from pathlib import Path"
   ]
  },
  {
   "cell_type": "markdown",
   "id": "a9d9b0d1",
   "metadata": {},
   "source": [
    "##### device 세팅"
   ]
  },
  {
   "cell_type": "code",
   "execution_count": 225,
   "id": "bc5ed470",
   "metadata": {},
   "outputs": [
    {
     "data": {
      "text/plain": [
       "device(type='cuda')"
      ]
     },
     "execution_count": 225,
     "metadata": {},
     "output_type": "execute_result"
    }
   ],
   "source": [
    "device = torch.device('cuda') if torch.cuda.is_available() else torch.device('cpu')\n",
    "device"
   ]
  },
  {
   "cell_type": "markdown",
   "id": "21602da0",
   "metadata": {},
   "source": [
    "##### datasets\n",
    "* STL10 사용\n",
    "* download 가능\n",
    "\n",
    "[Const]\n",
    "* DATA_NUM = int\n",
    "* BATCH_SIZE = int\n",
    "* BATCH_NUM = int = DATA_NUM / BATCH_NUM\n",
    "\n",
    "[Data Structure]\n",
    "* Dataset = Sample[DATA_NUM]\n",
    "* Sample = (Image, Label)\n",
    "* Image = Tensor[width,height,channel]\n",
    "* Label = Tensor[1]\n",
    "* DataLader = Batch[batch_num]\n",
    "* Batch = (ImageBatch, LabelBatch)\n",
    "* ImageBatch = Image[batch_size]\n",
    "* LabelBatch = Label[batch_size]"
   ]
  },
  {
   "cell_type": "markdown",
   "id": "f3a762aa",
   "metadata": {},
   "source": [
    "\n"
   ]
  },
  {
   "cell_type": "code",
   "execution_count": 226,
   "id": "5efa470f",
   "metadata": {},
   "outputs": [
    {
     "name": "stdout",
     "output_type": "stream",
     "text": [
      "Files already downloaded and verified\n",
      "Files already downloaded and verified\n"
     ]
    }
   ],
   "source": [
    "mean, std = [0.485, 0.456, 0.406], [0.229, 0.224, 0.225]\n",
    "size = [64, 64]\n",
    "\n",
    "torchvision.transforms.Compose([\n",
    "    torchvision.transforms.Resize(size),\n",
    "    torchvision.transforms.RandomResizedCrop(224),\n",
    "    torchvision.transforms.RandomHorizontalFlip(),\n",
    "    torchvision.transforms.Normalize(mean, std),\n",
    "    torchvision.transforms.ToTensor()\n",
    "])\n",
    "\n",
    "train_dataset = torchvision.datasets.STL10('/train', split='train', download=True, transform=transforms.ToTensor())\n",
    "test_dataset = torchvision.datasets.STL10('/test', split='test', download=True, transform=transforms.ToTensor())\n",
    "\n",
    "train_dataloader = DataLoader(train_dataset, batch_size=128, shuffle=True)\n",
    "test_dataloader = DataLoader(test_dataset, batch_size=64, shuffle=False)"
   ]
  },
  {
   "cell_type": "markdown",
   "id": "a0b61ec1",
   "metadata": {},
   "source": [
    "##### Model\n",
    "* torchvision.models 에서 여러 모델 로드 가능\n",
    "* pretrained weight도 다운 가능"
   ]
  },
  {
   "cell_type": "code",
   "execution_count": 227,
   "id": "2e19e566",
   "metadata": {},
   "outputs": [],
   "source": [
    "# pretrined weight 받아오기\n",
    "pretrained_weight = models.ResNet50_Weights.IMAGENET1K_V2\n",
    "# weight을 주고 resnet 생성\n",
    "model = models.resnet50(weights = pretrained_weight).to(device)\n",
    "# 모델 뒷단의 FC를 output_size가 10인 FC로 수정\n",
    "model.fc = Linear(in_features=2048, out_features=10, bias=True).to(device)"
   ]
  },
  {
   "cell_type": "markdown",
   "id": "44193cea",
   "metadata": {},
   "source": [
    "##### Training Parameter"
   ]
  },
  {
   "cell_type": "code",
   "execution_count": 233,
   "id": "cae6bee5",
   "metadata": {},
   "outputs": [],
   "source": [
    "params = {\n",
    "    'num_epochs':5,\n",
    "    'optimizer':optim.Adam(model.parameters(), lr=0.000001),\n",
    "    'loss_function':nn.CrossEntropyLoss().to(device),\n",
    "    'train_dataloader':train_dataloader,\n",
    "    'test_dataloader': test_dataloader,\n",
    "    'device':device\n",
    "}"
   ]
  },
  {
   "cell_type": "markdown",
   "id": "39d195e5",
   "metadata": {},
   "source": [
    "##### Training"
   ]
  },
  {
   "cell_type": "code",
   "execution_count": 234,
   "id": "eabcce3c",
   "metadata": {},
   "outputs": [],
   "source": [
    "def train(model, params):\n",
    "    loss_function=params[\"loss_function\"]\n",
    "    train_dataloader=params[\"train_dataloader\"]\n",
    "    test_dataloader=params[\"test_dataloader\"]\n",
    "    device=params[\"device\"]\n",
    "    optimizer = params[\"optimizer\"]\n",
    "    \n",
    "    for epoch in range(0, num_epochs):\n",
    "        for i, data in enumerate(train_dataloader, 0):\n",
    "            # train dataloader 로 불러온 데이터에서 이미지와 라벨을 분리\n",
    "            inputs, labels = data\n",
    "            inputs = inputs.to(device)\n",
    "            labels = labels.to(device)\n",
    "\n",
    "            # 이전 batch에서 계산된 가중치를 초기화\n",
    "            optimizer.zero_grad() \n",
    "\n",
    "            # forward + back propagation 연산\n",
    "            outputs = model(inputs)\n",
    "            train_loss = loss_function(outputs, labels)\n",
    "            train_loss.backward()\n",
    "            optimizer.step()\n",
    "\n",
    "        # test accuracy 계산\n",
    "        total = 0\n",
    "        correct = 0\n",
    "        accuracy = []\n",
    "        \n",
    "        for i, data in enumerate(test_dataloader, 0):\n",
    "            inputs, labels = data\n",
    "            inputs = inputs.to(device)\n",
    "            labels = labels.to(device)\n",
    "\n",
    "            # 결과값 연산\n",
    "            outputs = model(inputs)\n",
    "\n",
    "            _, predicted = torch.max(outputs.data, 1)\n",
    "            total += labels.size(0)\n",
    "            correct += (predicted == labels).sum().item()\n",
    "            test_loss = loss_function(outputs, labels).item()\n",
    "            accuracy.append(100 * correct/total)\n",
    "\n",
    "        # 학습 결과 출력\n",
    "        print('Epoch: %d/%d, Train loss: %.6f, Test loss: %.6f, Accuracy: %.2f' %(epoch+1, num_epochs, train_loss.item(), test_loss, 100*correct/total))"
   ]
  },
  {
   "cell_type": "code",
   "execution_count": 235,
   "id": "52dd0b93",
   "metadata": {
    "scrolled": true
   },
   "outputs": [
    {
     "name": "stdout",
     "output_type": "stream",
     "text": [
      "Epoch: 1/5, Train loss: 0.166574, Test loss: 0.190729, Accuracy: 92.67\n",
      "Epoch: 2/5, Train loss: 0.328720, Test loss: 0.192077, Accuracy: 92.72\n",
      "Epoch: 3/5, Train loss: 0.600106, Test loss: 0.192423, Accuracy: 92.71\n",
      "Epoch: 4/5, Train loss: 0.120998, Test loss: 0.193277, Accuracy: 92.69\n",
      "Epoch: 5/5, Train loss: 0.059825, Test loss: 0.193585, Accuracy: 92.65\n"
     ]
    }
   ],
   "source": [
    "train(model, params)"
   ]
  },
  {
   "cell_type": "code",
   "execution_count": null,
   "id": "b4855d3c",
   "metadata": {},
   "outputs": [],
   "source": []
  }
 ],
 "metadata": {
  "kernelspec": {
   "display_name": "torch",
   "language": "python",
   "name": "torch"
  },
  "language_info": {
   "codemirror_mode": {
    "name": "ipython",
    "version": 3
   },
   "file_extension": ".py",
   "mimetype": "text/x-python",
   "name": "python",
   "nbconvert_exporter": "python",
   "pygments_lexer": "ipython3",
   "version": "3.10.8"
  }
 },
 "nbformat": 4,
 "nbformat_minor": 5
}
