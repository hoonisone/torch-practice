{
 "cells": [
  {
   "cell_type": "code",
   "execution_count": 33,
   "id": "3e37c393",
   "metadata": {},
   "outputs": [],
   "source": [
    "import torch"
   ]
  },
  {
   "cell_type": "code",
   "execution_count": 12,
   "id": "d3a44eee",
   "metadata": {},
   "outputs": [],
   "source": [
    "# 모델의 출력에는 batch_size(5)개의 샘플에 대해 class_num(3)개의 확률이 들어있다.\n",
    "model_output = torch.tensor([[0.2, 0.3, 0.5],\n",
    "                             [0.1, 0.8, 0.1],\n",
    "                             [0.4, 0.3, 0.3],\n",
    "                             [0.9, 0.1, 0.0],\n",
    "                             [0.2, 0.2, 0.6]])"
   ]
  },
  {
   "cell_type": "code",
   "execution_count": null,
   "id": "1753edf4",
   "metadata": {},
   "outputs": [],
   "source": [
    "# 정답 레이블에는 batch_size(5)개의 샘플에 대한 정답 레이블이 들어있다.\n",
    "batch_label = torch.tensor([2, 1, 1, 0, 3])"
   ]
  },
  {
   "cell_type": "code",
   "execution_count": null,
   "id": "0c5db3c5",
   "metadata": {},
   "outputs": [],
   "source": [
    "# 각 샘플 마다 확률이 가장 높은 클래스를 구하고 정답과 동일한 샘플의 개수를 세야한다."
   ]
  },
  {
   "cell_type": "code",
   "execution_count": 30,
   "id": "ddd2dcc5",
   "metadata": {},
   "outputs": [
    {
     "data": {
      "text/plain": [
       "torch.return_types.max(\n",
       "values=tensor([0.5000, 0.8000, 0.4000, 0.9000, 0.6000]),\n",
       "indices=tensor([2, 1, 0, 0, 2]))"
      ]
     },
     "execution_count": 30,
     "metadata": {},
     "output_type": "execute_result"
    }
   ],
   "source": [
    "# 모델의 출력에 대해 각 샘플 별 확률이 가장 높은 클래스에 대한 확률 값과 인덱스 계산\n",
    "torch.max(model_output, 1)"
   ]
  },
  {
   "cell_type": "code",
   "execution_count": 32,
   "id": "2dc435c9",
   "metadata": {},
   "outputs": [
    {
     "data": {
      "text/plain": [
       "tensor([2, 1, 0, 0, 2])"
      ]
     },
     "execution_count": 32,
     "metadata": {},
     "output_type": "execute_result"
    }
   ],
   "source": [
    "# 인덱스를 예측 클래스로 사용 가능\n",
    "predict = torch.max(model_output, 1)[1]\n",
    "predict"
   ]
  },
  {
   "cell_type": "code",
   "execution_count": 27,
   "id": "8f845b92",
   "metadata": {},
   "outputs": [
    {
     "data": {
      "text/plain": [
       "tensor([ True,  True, False,  True, False])"
      ]
     },
     "execution_count": 27,
     "metadata": {},
     "output_type": "execute_result"
    }
   ],
   "source": [
    "# 예측과 결과 비교\n",
    "(predict == batch_label)"
   ]
  },
  {
   "cell_type": "code",
   "execution_count": 28,
   "id": "5241c576",
   "metadata": {},
   "outputs": [
    {
     "data": {
      "text/plain": [
       "tensor(3)"
      ]
     },
     "execution_count": 28,
     "metadata": {},
     "output_type": "execute_result"
    }
   ],
   "source": [
    "# 정답 카운트\n",
    "(predict == batch_label).sum()"
   ]
  },
  {
   "cell_type": "code",
   "execution_count": 29,
   "id": "738ee78b",
   "metadata": {},
   "outputs": [
    {
     "data": {
      "text/plain": [
       "3"
      ]
     },
     "execution_count": 29,
     "metadata": {},
     "output_type": "execute_result"
    }
   ],
   "source": [
    "# 정수로 변환\n",
    "(predict == batch_label).sum().item()"
   ]
  },
  {
   "cell_type": "markdown",
   "id": "9e3f5635",
   "metadata": {},
   "source": [
    "# Ref"
   ]
  },
  {
   "cell_type": "code",
   "execution_count": 26,
   "id": "2e003f52",
   "metadata": {},
   "outputs": [],
   "source": [
    "# item() 기능 분석\n",
    "\n",
    "assert torch.tensor([1, 2, 3])[0] == torch.tensor(1)\n",
    "assert torch.tensor([1, 2, 3])[0].item() == 1"
   ]
  },
  {
   "cell_type": "code",
   "execution_count": 46,
   "id": "f0b25acb",
   "metadata": {},
   "outputs": [],
   "source": [
    "# torch.max() 기능 분석\n",
    "\n",
    "x = torch.tensor([[1, 2, 3], [4, 5, 6]])\n",
    "assert torch.max(x) == 6\n",
    "\n",
    "assert torch.equal(torch.max(x, 0)[0], torch.tensor([4, 5, 6]))\n",
    "assert torch.equal(torch.max(x, 0)[1], torch.tensor([1, 1, 1]))\n",
    "\n",
    "assert torch.equal(torch.max(x, 1)[0], torch.tensor([3, 6]))\n",
    "assert torch.equal(torch.max(x, 1)[1], torch.tensor([2, 2]))"
   ]
  }
 ],
 "metadata": {
  "kernelspec": {
   "display_name": "torch",
   "language": "python",
   "name": "torch"
  },
  "language_info": {
   "codemirror_mode": {
    "name": "ipython",
    "version": 3
   },
   "file_extension": ".py",
   "mimetype": "text/x-python",
   "name": "python",
   "nbconvert_exporter": "python",
   "pygments_lexer": "ipython3",
   "version": "3.10.8"
  }
 },
 "nbformat": 4,
 "nbformat_minor": 5
}
