{
 "cells": [
  {
   "cell_type": "code",
   "execution_count": 3,
   "id": "fe51dfcb",
   "metadata": {},
   "outputs": [],
   "source": [
    "import torch\n",
    "import torchvision"
   ]
  },
  {
   "cell_type": "code",
   "execution_count": 123,
   "id": "a45d90bc",
   "metadata": {},
   "outputs": [
    {
     "name": "stdout",
     "output_type": "stream",
     "text": [
      "Files already downloaded and verified\n",
      "Files already downloaded and verified\n",
      "Files already downloaded and verified\n"
     ]
    }
   ],
   "source": [
    "import os\n",
    "import pathlib\n",
    "from torchvision import transforms\n",
    "from torch.utils.data import DataLoader\n",
    "\n",
    "transform_origin = torchvision.transforms.Compose([\n",
    "#     torchvision.transforms.ToTensor(),\n",
    "    torchvision.transforms.Resize([64, 64]),\n",
    "#     torchvision.transforms.Normalize((0.485*255, 0.456*255, 0.406*255), (0.229, 0.224, 0.225))\n",
    "])\n",
    "\n",
    "transform = torchvision.transforms.Compose([\n",
    "    torchvision.transforms.ToTensor(),\n",
    "    torchvision.transforms.Resize([64, 64]),\n",
    "#     torchvision.transforms.Normalize((0.485*255, 0.456*255, 0.406*255), (0.229, 0.224, 0.225))\n",
    "])\n",
    "\n",
    "train_dataset_image = torchvision.datasets.STL10('/train', split='train', download=True, transform=transform_origin)\n",
    "train_dataset = torchvision.datasets.STL10('/train', split='train', download=True, transform=transform)\n",
    "test_dataset = torchvision.datasets.STL10('/test', split='test', download=True, transform=transform)\n",
    "\n",
    "train_dataloader = DataLoader(train_dataset, batch_size=128, shuffle=True)\n",
    "test_dataloader = DataLoader(test_dataset, batch_size=128, shuffle=False)\n",
    "\n",
    "classes = [\"airplane\", \"bird\", \"car\", \"cat\", \"deer\", \"dog\", \"horse\", \"monkey\", \"ship\", \"truck\"]"
   ]
  },
  {
   "cell_type": "code",
   "execution_count": 18,
   "id": "dca293ab",
   "metadata": {},
   "outputs": [
    {
     "ename": "AttributeError",
     "evalue": "'ResNet' object has no attribute 'out_channels'",
     "output_type": "error",
     "traceback": [
      "\u001b[1;31m---------------------------------------------------------------------------\u001b[0m",
      "\u001b[1;31mAttributeError\u001b[0m                            Traceback (most recent call last)",
      "Cell \u001b[1;32mIn [18], line 2\u001b[0m\n\u001b[0;32m      1\u001b[0m backbone \u001b[38;5;241m=\u001b[39m torchvision\u001b[38;5;241m.\u001b[39mmodels\u001b[38;5;241m.\u001b[39mresnet50(weights \u001b[38;5;241m=\u001b[39m torchvision\u001b[38;5;241m.\u001b[39mmodels\u001b[38;5;241m.\u001b[39mResNet50_Weights\u001b[38;5;241m.\u001b[39mIMAGENET1K_V2)\n\u001b[1;32m----> 2\u001b[0m \u001b[43mtorchvision\u001b[49m\u001b[38;5;241;43m.\u001b[39;49m\u001b[43mmodels\u001b[49m\u001b[38;5;241;43m.\u001b[39;49m\u001b[43mdetection\u001b[49m\u001b[38;5;241;43m.\u001b[39;49m\u001b[43mmask_rcnn\u001b[49m\u001b[38;5;241;43m.\u001b[39;49m\u001b[43mMaskRCNN\u001b[49m\u001b[43m(\u001b[49m\u001b[43mbackbone\u001b[49m\u001b[43m)\u001b[49m\n",
      "File \u001b[1;32m~\\anaconda3\\envs\\torch\\lib\\site-packages\\torchvision\\models\\detection\\mask_rcnn.py:212\u001b[0m, in \u001b[0;36mMaskRCNN.__init__\u001b[1;34m(self, backbone, num_classes, min_size, max_size, image_mean, image_std, rpn_anchor_generator, rpn_head, rpn_pre_nms_top_n_train, rpn_pre_nms_top_n_test, rpn_post_nms_top_n_train, rpn_post_nms_top_n_test, rpn_nms_thresh, rpn_fg_iou_thresh, rpn_bg_iou_thresh, rpn_batch_size_per_image, rpn_positive_fraction, rpn_score_thresh, box_roi_pool, box_head, box_predictor, box_score_thresh, box_nms_thresh, box_detections_per_img, box_fg_iou_thresh, box_bg_iou_thresh, box_batch_size_per_image, box_positive_fraction, bbox_reg_weights, mask_roi_pool, mask_head, mask_predictor, **kwargs)\u001b[0m\n\u001b[0;32m    209\u001b[0m     \u001b[38;5;28;01mif\u001b[39;00m mask_predictor \u001b[38;5;129;01mis\u001b[39;00m \u001b[38;5;129;01mnot\u001b[39;00m \u001b[38;5;28;01mNone\u001b[39;00m:\n\u001b[0;32m    210\u001b[0m         \u001b[38;5;28;01mraise\u001b[39;00m \u001b[38;5;167;01mValueError\u001b[39;00m(\u001b[38;5;124m\"\u001b[39m\u001b[38;5;124mnum_classes should be None when mask_predictor is specified\u001b[39m\u001b[38;5;124m\"\u001b[39m)\n\u001b[1;32m--> 212\u001b[0m out_channels \u001b[38;5;241m=\u001b[39m \u001b[43mbackbone\u001b[49m\u001b[38;5;241;43m.\u001b[39;49m\u001b[43mout_channels\u001b[49m\n\u001b[0;32m    214\u001b[0m \u001b[38;5;28;01mif\u001b[39;00m mask_roi_pool \u001b[38;5;129;01mis\u001b[39;00m \u001b[38;5;28;01mNone\u001b[39;00m:\n\u001b[0;32m    215\u001b[0m     mask_roi_pool \u001b[38;5;241m=\u001b[39m MultiScaleRoIAlign(featmap_names\u001b[38;5;241m=\u001b[39m[\u001b[38;5;124m\"\u001b[39m\u001b[38;5;124m0\u001b[39m\u001b[38;5;124m\"\u001b[39m, \u001b[38;5;124m\"\u001b[39m\u001b[38;5;124m1\u001b[39m\u001b[38;5;124m\"\u001b[39m, \u001b[38;5;124m\"\u001b[39m\u001b[38;5;124m2\u001b[39m\u001b[38;5;124m\"\u001b[39m, \u001b[38;5;124m\"\u001b[39m\u001b[38;5;124m3\u001b[39m\u001b[38;5;124m\"\u001b[39m], output_size\u001b[38;5;241m=\u001b[39m\u001b[38;5;241m14\u001b[39m, sampling_ratio\u001b[38;5;241m=\u001b[39m\u001b[38;5;241m2\u001b[39m)\n",
      "File \u001b[1;32m~\\anaconda3\\envs\\torch\\lib\\site-packages\\torch\\nn\\modules\\module.py:1265\u001b[0m, in \u001b[0;36mModule.__getattr__\u001b[1;34m(self, name)\u001b[0m\n\u001b[0;32m   1263\u001b[0m     \u001b[38;5;28;01mif\u001b[39;00m name \u001b[38;5;129;01min\u001b[39;00m modules:\n\u001b[0;32m   1264\u001b[0m         \u001b[38;5;28;01mreturn\u001b[39;00m modules[name]\n\u001b[1;32m-> 1265\u001b[0m \u001b[38;5;28;01mraise\u001b[39;00m \u001b[38;5;167;01mAttributeError\u001b[39;00m(\u001b[38;5;124m\"\u001b[39m\u001b[38;5;124m'\u001b[39m\u001b[38;5;132;01m{}\u001b[39;00m\u001b[38;5;124m'\u001b[39m\u001b[38;5;124m object has no attribute \u001b[39m\u001b[38;5;124m'\u001b[39m\u001b[38;5;132;01m{}\u001b[39;00m\u001b[38;5;124m'\u001b[39m\u001b[38;5;124m\"\u001b[39m\u001b[38;5;241m.\u001b[39mformat(\n\u001b[0;32m   1266\u001b[0m     \u001b[38;5;28mtype\u001b[39m(\u001b[38;5;28mself\u001b[39m)\u001b[38;5;241m.\u001b[39m\u001b[38;5;18m__name__\u001b[39m, name))\n",
      "\u001b[1;31mAttributeError\u001b[0m: 'ResNet' object has no attribute 'out_channels'"
     ]
    }
   ],
   "source": [
    "backbone = torchvision.models.resnet50(weights = torchvision.models.ResNet50_Weights.IMAGENET1K_V2)\n",
    "torchvision.models.detection.mask_rcnn.MaskRCNN(backbone)"
   ]
  },
  {
   "cell_type": "code",
   "execution_count": 74,
   "id": "044f16a6",
   "metadata": {},
   "outputs": [
    {
     "name": "stderr",
     "output_type": "stream",
     "text": [
      "C:\\Users\\admin\\anaconda3\\envs\\torch\\lib\\site-packages\\torchvision\\models\\_utils.py:223: UserWarning: Arguments other than a weight enum or `None` for 'weights' are deprecated since 0.13 and may be removed in the future. The current behavior is equivalent to passing `weights=MaskRCNN_ResNet50_FPN_Weights.COCO_V1`. You can also use `weights=MaskRCNN_ResNet50_FPN_Weights.DEFAULT` to get the most up-to-date weights.\n",
      "  warnings.warn(msg)\n"
     ]
    }
   ],
   "source": [
    "weights = torchvision.models.detection.MaskRCNN_ResNet50_FPN_Weights\n",
    "model = torchvision.models.detection.maskrcnn_resnet50_fpn(weights=weights)\n",
    "model.eval()\n",
    "\n",
    "x = train_dataset[0][0].unsqueeze(0)\n",
    "x\n",
    "predictions = model(x)"
   ]
  },
  {
   "cell_type": "code",
   "execution_count": 124,
   "id": "b2782c01",
   "metadata": {},
   "outputs": [
    {
     "data": {
      "image/png": "[encoded data removed]",
      "text/plain": [
       "<PIL.Image.Image image mode=RGB size=64x64>"
      ]
     },
     "execution_count": 124,
     "metadata": {},
     "output_type": "execute_result"
    }
   ],
   "source": [
    "import bbox_visualizer as bbv\n",
    "from PIL import Image\n",
    "\n",
    "img = np.array(train_dataset_image[0][0])\n",
    "bbox = [10, 20, 10, 10]\n",
    "mg = bbv.draw_rectangle(img, bbox)\n",
    "label = \"ab\"\n",
    "img = bbv.add_label(img, label, bbox, top=True)\n",
    "\n",
    "Image.fromarray(img)"
   ]
  },
  {
   "cell_type": "code",
   "execution_count": null,
   "id": "590c10b4",
   "metadata": {},
   "outputs": [],
   "source": []
  },
  {
   "cell_type": "code",
   "execution_count": null,
   "id": "023a1a52",
   "metadata": {},
   "outputs": [],
   "source": []
  },
  {
   "cell_type": "code",
   "execution_count": null,
   "id": "5db83b9d",
   "metadata": {},
   "outputs": [],
   "source": []
  },
  {
   "cell_type": "code",
   "execution_count": null,
   "id": "c918e009",
   "metadata": {},
   "outputs": [],
   "source": []
  },
  {
   "cell_type": "code",
   "execution_count": 79,
   "id": "1537f2fb",
   "metadata": {},
   "outputs": [
    {
     "data": {
      "image/png": "[encoded data removed]",
      "text/plain": [
       "<Figure size 640x480 with 1 Axes>"
      ]
     },
     "metadata": {},
     "output_type": "display_data"
    }
   ],
   "source": [
    "from torchvision.utils import draw_bounding_boxes\n",
    "import matplotlib.pyplot as plt\n",
    "import torchvision.transforms.functional as F\n",
    "import numpy as np\n",
    "def show(imgs):\n",
    "    if not isinstance(imgs, list):\n",
    "        imgs = [imgs]\n",
    "    fig, axs = plt.subplots(ncols=len(imgs), squeeze=False)\n",
    "    for i, img in enumerate(imgs):\n",
    "        img = img.detach()\n",
    "        img = F.to_pil_image(img)\n",
    "        axs[0, i].imshow(np.asarray(img))\n",
    "        axs[0, i].set(xticklabels=[], yticklabels=[], xticks=[], yticks=[])\n",
    "        \n",
    "image = (train_dataset[0][0]*255).type(torch.uint8)\n",
    "boxes = torch.tensor([[ 7.4649,  2.7655, 41.7331, 63.5029],\n",
    "          [23.5324,  0.3798, 44.7102, 36.4095],\n",
    "          [11.4511,  1.8813, 28.3205, 64.0000],\n",
    "          [ 1.0580,  3.1094, 14.6100, 62.9259],\n",
    "          [ 2.1185,  4.4252, 21.9859, 64.0000]], dtype=torch.float)\n",
    "colors = [\"blue\", \"yellow\"]\n",
    "# result = draw_bounding_boxes(image, boxes, colors=colors, width=5)\n",
    "result = draw_bounding_boxes(image, boxes, width=5)\n",
    "show(result)"
   ]
  },
  {
   "cell_type": "code",
   "execution_count": 53,
   "id": "5fa0e047",
   "metadata": {},
   "outputs": [],
   "source": [
    "from torchvision.io import read_image"
   ]
  },
  {
   "cell_type": "code",
   "execution_count": 58,
   "id": "df3a3cc5",
   "metadata": {},
   "outputs": [],
   "source": [
    "image = read_image(\"test.jpg\")"
   ]
  },
  {
   "cell_type": "code",
   "execution_count": 57,
   "id": "71df4cb0",
   "metadata": {},
   "outputs": [
    {
     "data": {
      "text/plain": [
       "torch.uint8"
      ]
     },
     "execution_count": 57,
     "metadata": {},
     "output_type": "execute_result"
    }
   ],
   "source": [
    "dog1_int.shape\n",
    "dog1_int.dtype"
   ]
  },
  {
   "cell_type": "code",
   "execution_count": 65,
   "id": "7e7676d6",
   "metadata": {},
   "outputs": [
    {
     "data": {
      "text/plain": [
       "tensor([[[146, 146, 146,  ..., 162, 162, 162],\n",
       "         [146, 146, 146,  ..., 162, 162, 162],\n",
       "         [146, 146, 146,  ..., 163, 163, 163],\n",
       "         ...,\n",
       "         [132, 141, 128,  ..., 139, 140, 138],\n",
       "         [134, 133, 120,  ..., 138, 139, 137],\n",
       "         [135, 111, 104,  ..., 143, 143, 138]],\n",
       "\n",
       "        [[143, 143, 143,  ..., 159, 159, 159],\n",
       "         [143, 143, 143,  ..., 158, 158, 158],\n",
       "         [143, 143, 143,  ..., 158, 158, 158],\n",
       "         ...,\n",
       "         [116, 126, 114,  ..., 130, 126, 120],\n",
       "         [118, 118, 106,  ..., 128, 126, 123],\n",
       "         [119,  96,  90,  ..., 132, 133, 128]],\n",
       "\n",
       "        [[110, 110, 110,  ..., 126, 126, 126],\n",
       "         [110, 110, 110,  ..., 126, 126, 126],\n",
       "         [110, 110, 110,  ..., 126, 126, 126],\n",
       "         ...,\n",
       "         [ 86,  85,  68,  ..., 119, 118, 105],\n",
       "         [ 96,  89,  70,  ..., 117, 111,  96],\n",
       "         [110,  81,  67,  ..., 120, 111,  93]]], dtype=torch.uint8)"
      ]
     },
     "execution_count": 65,
     "metadata": {},
     "output_type": "execute_result"
    }
   ],
   "source": []
  },
  {
   "cell_type": "code",
   "execution_count": 61,
   "id": "136ab81b",
   "metadata": {},
   "outputs": [
    {
     "data": {
      "text/plain": [
       "tensor([[[196, 196, 196,  ..., 159, 159, 159],\n",
       "         [196, 197, 197,  ..., 159, 159, 159],\n",
       "         [197, 197, 198,  ..., 159, 159, 159],\n",
       "         ...,\n",
       "         [187, 201, 212,  ...,  67,  67,  67],\n",
       "         [191, 204, 214,  ...,  66,  66,  66],\n",
       "         [194, 207, 215,  ...,  65,  65,  65]],\n",
       "\n",
       "        [[191, 191, 191,  ..., 101, 101, 101],\n",
       "         [191, 192, 192,  ..., 101, 101, 101],\n",
       "         [192, 192, 193,  ..., 101, 101, 101],\n",
       "         ...,\n",
       "         [160, 174, 185,  ...,  31,  31,  31],\n",
       "         [164, 177, 187,  ...,  30,  30,  30],\n",
       "         [167, 180, 188,  ...,  29,  29,  29]],\n",
       "\n",
       "        [[185, 185, 185,  ...,  53,  53,  53],\n",
       "         [185, 186, 186,  ...,  53,  53,  53],\n",
       "         [186, 186, 187,  ...,  53,  53,  53],\n",
       "         ...,\n",
       "         [131, 144, 155,  ...,   0,   0,   0],\n",
       "         [135, 147, 157,  ...,   0,   0,   0],\n",
       "         [138, 150, 158,  ...,   0,   0,   0]]], dtype=torch.uint8)"
      ]
     },
     "execution_count": 61,
     "metadata": {},
     "output_type": "execute_result"
    }
   ],
   "source": [
    "image.type(torch.uint8)"
   ]
  },
  {
   "cell_type": "code",
   "execution_count": null,
   "id": "42e515c4",
   "metadata": {},
   "outputs": [],
   "source": []
  }
 ],
 "metadata": {
  "kernelspec": {
   "display_name": "torch",
   "language": "python",
   "name": "torch"
  },
  "language_info": {
   "codemirror_mode": {
    "name": "ipython",
    "version": 3
   },
   "file_extension": ".py",
   "mimetype": "text/x-python",
   "name": "python",
   "nbconvert_exporter": "python",
   "pygments_lexer": "ipython3",
   "version": "3.10.8"
  }
 },
 "nbformat": 4,
 "nbformat_minor": 5
}
